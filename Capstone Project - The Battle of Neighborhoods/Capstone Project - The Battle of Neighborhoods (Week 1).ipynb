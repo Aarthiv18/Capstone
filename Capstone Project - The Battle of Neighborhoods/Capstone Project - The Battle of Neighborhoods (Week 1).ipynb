{
 "cells": [
  {
   "cell_type": "markdown",
   "metadata": {},
   "source": [
    "# Capstone Project - The Battle of the Neighbourhoods (Edmonton, Alberta, Canada) - Week1\n",
    "##### *by Aarthi Velusamy* #####\n",
    "### Applied Data Science Capstone Project"
   ]
  },
  {
   "cell_type": "markdown",
   "metadata": {},
   "source": [
    "## Introduction: Business Problem <a name=\"introduction\"></a>"
   ]
  },
  {
   "cell_type": "markdown",
   "metadata": {},
   "source": [
    "The aim of this project is to find a safe and secure location for opening of commercial establishments in Edmonton, Canada. Specifically, this report will be targeted to stakeholders interested in opening any business place like **Grocery Store** in **Edmonton City**, Canada.\n",
    "\n",
    "The first task would be to **choose the safest borough (region)** by analysing crime data for opening a grocery store and **short listing a neighbourhood**, where grocery stores are not amongst the most commom venues, and yet **in little to no crime neighbourhood**.\n",
    "\n",
    "We will make use of our data science tools to analyse data and focus on the safest borough and explore its neighborhoods and the 15 most common venues in each neighborhood so that the best neighborhood where grocery store is not amongst the most common venue can be selected."
   ]
  },
  {
   "cell_type": "markdown",
   "metadata": {},
   "source": [
    "## Data <a name=\"data\"></a>"
   ]
  },
  {
   "cell_type": "markdown",
   "metadata": {},
   "source": [
    "Based on definition of the problem, factors that will influence our decision are:\n",
    "* finding the safest borough based on crime statistics\n",
    "* finding the most common venues\n",
    "* choosing the right neighbourhood within the borough\n",
    "\n",
    "We will find out the best neighborhood in Edmonton for entrepreneurs to open a Grocery store by:\n",
    "* Using multiple datasets from different sources (i.e. Web, Geocode, CSV files, Foursquare API)\n",
    "* Python Webscraping using Beautifulsoup\n",
    "* Data Preprocessing\n",
    "* Data Analysis\n",
    "\n",
    "We will be using the geographical coordinates of Edmonton to plot neighbourhoods in a borough that is safe and in the city's vicinity, and finally cluster the neighborhoods and present my findings.\n",
    "\n",
    "Following data sources will be needed to extract/generate the required information:\n",
    "\n",
    "- **Part 1**: Using a real world data set from Open Data containing the Edmonton Neighborhood Crimes from 2009 to 2019:  A dataset consisting of the crime statistics of each Neighbourhood in Edmonton along with type of violation(crime), reported year, quarter, month and number of occurrences.\n",
    "\n",
    "- **Part 2**: Gathering additional information of the list of officially categorized boroughs in Edmonton from Wikipedia: Borough information will be used to map the existing data where each neighbourhood can be assigned with the right borough.\n",
    "\n",
    "- **Part 3**: Creating a new consolidated dataset of the Neighborhoods, along with their boroughs, crime data and the respective Neighbourhood's co-ordinates: This data will be fetched using OpenCage Geocoder to find the safest borough and explore the neighbourhood by plotting it on maps using Folium and perform exploratory data analysis.\n",
    "\n",
    "- **Part 4**: Creating a new consolidated dataset of the Neighborhoods, boroughs, and the most common venues and the respective Neighbourhood along with co-ordinates: This data will be fetched using Four Square API to explore the neighbourhood venues and to apply machine learning algorithm to cluster the neighbourhoods and present the findings by plotting it on maps using Folium."
   ]
  },
  {
   "cell_type": "code",
   "execution_count": null,
   "metadata": {},
   "outputs": [],
   "source": []
  }
 ],
 "metadata": {
  "kernelspec": {
   "display_name": "Python",
   "language": "python",
   "name": "conda-env-python-py"
  },
  "language_info": {
   "codemirror_mode": {
    "name": "ipython",
    "version": 3
   },
   "file_extension": ".py",
   "mimetype": "text/x-python",
   "name": "python",
   "nbconvert_exporter": "python",
   "pygments_lexer": "ipython3",
   "version": "3.6.11"
  }
 },
 "nbformat": 4,
 "nbformat_minor": 4
}
